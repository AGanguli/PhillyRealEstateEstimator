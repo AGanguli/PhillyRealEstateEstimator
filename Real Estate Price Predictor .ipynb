{
 "cells": [
  {
   "cell_type": "code",
   "execution_count": 1,
   "id": "63a46825",
   "metadata": {},
   "outputs": [],
   "source": [
    "%matplotlib inline\n",
    "import pandas as pd\n",
    "import numpy as np\n",
    "import matplotlib.pyplot as plt\n",
    "import datetime\n",
    "import scipy\n",
    "from sklearn.ensemble import RandomForestRegressor\n",
    "from sklearn.model_selection import train_test_split\n",
    "from sklearn.preprocessing import OneHotEncoder\n",
    "from sklearn.compose import ColumnTransformer\n",
    "from joblib import load\n",
    "import ipywidgets as widgets\n",
    "from ipywidgets import interact, interact_manual"
   ]
  },
  {
   "cell_type": "markdown",
   "id": "f648de61",
   "metadata": {},
   "source": [
    "The census tract for a particular property can be found here:\n",
    "\n",
    "https://geocoding.geo.census.gov/geocoder/geographies/address?form"
   ]
  },
  {
   "cell_type": "markdown",
   "id": "b78207a7",
   "metadata": {},
   "source": [
    "census_tract            string[python]\n",
    "transfer_year                  float64\n",
    "central_air             string[python]\n",
    "depth                          Float32\n",
    "exterior_condition      string[python]\n",
    "fireplaces                       Int32\n",
    "frontage                       Float32\n",
    "garage_spaces                    Int32\n",
    "general_construction    string[python]\n",
    "interior_condition      string[python]\n",
    "number_of_bathrooms              Int32\n",
    "number_of_bedrooms               Int32\n",
    "number_stories                   Int32\n",
    "quality_grade           string[python]\n",
    "total_area                     Float32\n",
    "total_livable_area             Float32\n",
    "age                            float64\n",
    "zip_code                string[python]"
   ]
  },
  {
   "cell_type": "code",
   "execution_count": 20,
   "id": "829bd330",
   "metadata": {},
   "outputs": [],
   "source": [
    "zip_codes = sorted(['19146', '19122', '19106', '19136', '19147', '19115', '19118', '19125',\n",
    " '19144', '19128', '19139', '19103', '19104', '19119', '19123', '19134',\n",
    " '19130', '19152', '19116', '19127', '19148', '19154', '19111', '19120',\n",
    " '19140', '19133', '19126', '19124', '19150', '19138', '19151', '19143',\n",
    " '19131', '19141', '19114', '19149', '19107', '19102', '00000', '19121',\n",
    " '19132', '19145', '19142', '19135', '19137', '19153', '19129', '19112'])\n",
    "census_tracts = sorted(['13 ', '157', '10 ', '1  ', '348', '366', '356', '386', '387', '158', '344',\n",
    " '17 ', '240', '242', '11 ', '384', '93 ', '385', '12 ', '220', '86 ', '235',\n",
    " '367', '257', '253', '255', '176', '125', '18 ', '256', '92 ', '94 ', '347',\n",
    " '209', '237', '83 ', '388', '231', '365', '210', '163', '42 ', '238', '362',\n",
    " '306', '90 ', '96 ', '802', '358', '273', '27 ', '288', '286', '25 ', '16 ',\n",
    " '270', '301', '146', '340', '28 ', '359', '19 ', '302', '390', '261', '262',\n",
    " '249', '115', '78 ', '310', '105', '141', '142', '372', '72 ', '199', '282',\n",
    " '353', '352', '23 ', '338', '376', '192', '269', '40 ', '24 ', '191', '309',\n",
    " '283', '132', '107', '82 ', '165', '29 ', '73 ', '198', '15 ', '339', '143',\n",
    " '389', '114', '276', '174', '245', '272', '3  ', '2  ', '71 ', '360', '357',\n",
    " '258', '175', '244', '290', '195', '252', '95 ', '215', '84 ', '254', '9  ',\n",
    " '383', '65 ', '241', '6  ', '85 ', '214', '162', '246', '144', '7  ', '264',\n",
    " '311', '22 ', '110',   '-', '20 ', '342', '166', '87 ', '21 ', '293', '361',\n",
    " '219', '268', '74 ', '337', '203', '363', '138', '77 ', '137', '33 ', '377',\n",
    " '112', '111', '292', '101', '200', '308', '5  ', '140', '139', '263', '98 ',\n",
    " '30 ', '31 ', '190', '260', '32 ', '204', '373', '346', '274', '312', '318',\n",
    " '281', '167', '201', '14 ', '145', '39 ', '313', '133', '278', '173', '8  ',\n",
    " '153', '267', '147', '364', '280', '70 ', '314', '265', '300', '345', '335',\n",
    " '375', '336', '36 ', '277', '4  ', '148', '149', '259', '156', '294', '113',\n",
    " '135', '266', '119', '205', '134', '355', '64 ', '382', '351', '188', '38 ',\n",
    " '202', '178', '279', '161', '37 ', '152', '151', '298', '118', '317', '299',\n",
    " '41 ', '168', '319', '305', '271', '341', '100', '287', '321', '66 ', '160',\n",
    " '121', '117', '211', '216', '307', '179', '63 ', '334', '69 ', '169', '172',\n",
    " '380', '381', '120', '136', '164', '60 ', '67 ', '171', '180', '55 ', '378',\n",
    " '247', '62 ', '184', '183', '379', '333', '122', '61 ', '54 ', '177', '316',\n",
    " '315', '206', '332', '56 ', '289', '91 ', '243', '208', '800', '213', '236',\n",
    " '170', '109', '102', '103', '331', '809', '207', '239', '108', '88 ', '50 ',\n",
    " '197', '320', '106', '349', '291', '79 ', '80 ', '330', '329', '326', '104',\n",
    " '81 ', '325', '323', '284', '285', '217', '212', '248', '275', '801', '218',\n",
    " '131'])\n",
    "condition = {\n",
    "    'Not Applicable': '0',\n",
    "    'Newer Construction': '1',\n",
    "    'Rehabilitated - new': '2',\n",
    "    'Above Average': '3',\n",
    "    'Rehabilitated - older': '4',\n",
    "    'Average': '5',\n",
    "    'Below Average': '6',\n",
    "    'Vacant': '7',\n",
    "    'Sealed': '8',\n",
    "    'Structurally Compromised': '9',\n",
    "}\n",
    "grade = {\n",
    "    'Superior': 7,\n",
    "    'Excellent': 6,\n",
    "    'Very Good': 5,\n",
    "    'Good': 4,\n",
    "    'Normal': 3,\n",
    "    'Fair': 2,\n",
    "    'Poor': 1\n",
    "}"
   ]
  },
  {
   "cell_type": "code",
   "execution_count": 23,
   "id": "85afa869",
   "metadata": {},
   "outputs": [],
   "source": [
    "model = load(filename=\"real-estate-reandom-forest-100.joblib\")"
   ]
  },
  {
   "cell_type": "code",
   "execution_count": 25,
   "id": "484ad8bc",
   "metadata": {},
   "outputs": [],
   "source": [
    "transformer = load(filename='real-estate-transformer.joblib')"
   ]
  },
  {
   "cell_type": "code",
   "execution_count": 31,
   "id": "6d5c78ac",
   "metadata": {},
   "outputs": [
    {
     "data": {
      "application/vnd.jupyter.widget-view+json": {
       "model_id": "df7190e1356f449bb8f757e240ba6692",
       "version_major": 2,
       "version_minor": 0
      },
      "text/plain": [
       "interactive(children=(IntSlider(value=2015, description='transfer_year', max=2030, min=2000), Dropdown(descrip…"
      ]
     },
     "metadata": {},
     "output_type": "display_data"
    }
   ],
   "source": [
    "# census_tract           string[python]\n",
    "# transfer_year                 float64\n",
    "# central_air                   float64\n",
    "# depth                         Float32\n",
    "# exterior_condition     string[python]\n",
    "# fireplaces                      Int32\n",
    "# frontage                      Float32\n",
    "# garage_spaces                   Int32\n",
    "# interior_condition     string[python]\n",
    "# number_of_bathrooms             Int32\n",
    "# number_of_bedrooms              Int32\n",
    "# number_stories                  Int32\n",
    "# quality_grade                   int64\n",
    "# total_area                    Float32\n",
    "# total_livable_area            Float32\n",
    "# age                           float64\n",
    "# zip_code               string[python]\n",
    "\n",
    "@interact\n",
    "def predict_sales_price(\n",
    "        transfer_year=(2000,2030),\n",
    "        zip_code=zip_codes, \n",
    "        census_tract=census_tracts, \n",
    "        central_air={'No':0, 'Yes':1}, \n",
    "        depth=(0,500), \n",
    "        frontage = (0,500),\n",
    "        garage_spaces = (0,5),\n",
    "        exterior_condition = condition,\n",
    "        interior_condition = condition,\n",
    "        fireplaces = (0, 10),\n",
    "        number_of_bathrooms = (0, 25),\n",
    "        number_of_bedrooms = (0, 20),\n",
    "        number_stories = (1, 5),\n",
    "        quality_grade = grade,\n",
    "        total_area = (0,50000),\n",
    "        total_livable_area = (0, 20000),\n",
    "        age = (0,300),\n",
    "        \n",
    "):\n",
    "    x = pd.DataFrame({\n",
    "        'census_tract':census_tract,\n",
    "        'transfer_year':transfer_year,\n",
    "        'central_air':central_air,\n",
    "        'depth':depth,\n",
    "        'exterior_condition':exterior_condition,\n",
    "        'fireplaces':fireplaces,\n",
    "        'frontage':frontage,\n",
    "        'garage_spaces':garage_spaces,\n",
    "        'interior_condition':interior_condition,\n",
    "        'number_of_bathrooms':number_of_bathrooms,\n",
    "        'number_of_bedrooms':number_of_bedrooms,\n",
    "        'number_stories':number_stories,\n",
    "        'quality_grade':quality_grade,\n",
    "        'total_area':total_area,\n",
    "        'total_livable_area':total_livable_area,\n",
    "        'age':age,\n",
    "        'zip_code':zip_code,\n",
    "        },\n",
    "        index = [0]\n",
    "    )\n",
    "    xt = transformer.transform(x)\n",
    "    return model.predict(xt)"
   ]
  },
  {
   "cell_type": "code",
   "execution_count": null,
   "id": "a5012634",
   "metadata": {},
   "outputs": [],
   "source": []
  }
 ],
 "metadata": {
  "kernelspec": {
   "display_name": "Python 3 (ipykernel)",
   "language": "python",
   "name": "python3"
  },
  "language_info": {
   "codemirror_mode": {
    "name": "ipython",
    "version": 3
   },
   "file_extension": ".py",
   "mimetype": "text/x-python",
   "name": "python",
   "nbconvert_exporter": "python",
   "pygments_lexer": "ipython3",
   "version": "3.10.12"
  }
 },
 "nbformat": 4,
 "nbformat_minor": 5
}
